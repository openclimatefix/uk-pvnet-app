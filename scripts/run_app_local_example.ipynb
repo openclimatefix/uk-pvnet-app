{
 "cells": [
  {
   "cell_type": "markdown",
   "metadata": {},
   "source": [
    "# Example setup for running pvnet_app locally"
   ]
  },
  {
   "cell_type": "code",
   "execution_count": null,
   "metadata": {},
   "outputs": [],
   "source": [
    "import os\n",
    "\n",
    "# Set paths to input data and DB\n",
    "os.environ[\"SATELLITE_ZARR_PATH\"]=\"PLACEHOLDER\" # e.g. \"s3://nowcasting-sat-development/data/latest/latest.zarr.zip\"\n",
    "os.environ[\"NWP_UKV_ZARR_PATH\"]=\"PLACEHOLDER\"\n",
    "os.environ[\"NWP_ECMWF_ZARR_PATH\"]=\"PLACEHOLDER\"\n",
    "os.environ[\"DB_URL\"]=\"PLACEHOLDER\"\n",
    "\n",
    "# Set any other configuration for the model run\n",
    "os.environ[\"RUN_CRITICAL_MODELS_ONLY\"] = \"True\"\n",
    "os.environ[\"ALLOW_ADJUSTER\"] = \"False\"\n",
    "os.environ[\"ALLOW_SAVE_GSP_SUM\"] = \"False\"\n"
   ]
  },
  {
   "cell_type": "code",
   "execution_count": null,
   "metadata": {},
   "outputs": [],
   "source": [
    "from pvnet_app.app import app"
   ]
  },
  {
   "cell_type": "code",
   "execution_count": null,
   "metadata": {},
   "outputs": [],
   "source": [
    "# Run app locally, setting write predictions to False will return an xarray DataArray\n",
    "da = app(gsp_ids=list(range(1, 318)), num_workers=0, write_predictions=False)"
   ]
  }
 ],
 "metadata": {
  "kernelspec": {
   "display_name": "myenv",
   "language": "python",
   "name": "python3"
  },
  "language_info": {
   "codemirror_mode": {
    "name": "ipython",
    "version": 3
   },
   "file_extension": ".py",
   "mimetype": "text/x-python",
   "name": "python",
   "nbconvert_exporter": "python",
   "pygments_lexer": "ipython3",
   "version": "3.11.9"
  }
 },
 "nbformat": 4,
 "nbformat_minor": 2
}
